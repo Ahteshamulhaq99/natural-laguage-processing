{
 "cells": [
  {
   "cell_type": "markdown",
   "metadata": {},
   "source": [
    "# classes\n",
    "[['hiv test'], ['magnetic resonance angiography (mra)'], \n",
    " ['hyperventilation'], ['low heart rate', 'secondary adrenal crisis', 'secondary adrenal insufficiency'], \n",
    " ['atypical mole (dysplastic nevi)'], ['bladder reconstructive surgery'], ['relapsing-remitting multiple sclerosis (rrms)'],\n",
    " ['myalgic encephalomyelitis'], ['inflammatory bowel disease unclassified (ibdu)'], ['immune system deficiency'], ['lordosis'], \n",
    " ['bone ttberculosis (tb) diagnosis'], ['sudden balding'], ['staph infection'], ['no babies heart rate'], ['sarcoidosis'],\n",
    " ['cervical intraepithelial neoplasia', 'cold coagulation for cin'], ['stroke'], ['irregular periods pregnancy'],\n",
    " ['spine deformation'], ['lower abdomen'], ['energy supplements'], ['finger is slowly healing'], ['if an appendix ruptures'], \n",
    " "
   ]
  },
  {
   "cell_type": "code",
   "execution_count": 1,
   "metadata": {
    "colab": {
     "base_uri": "https://localhost:8080/",
     "height": 530
    },
    "id": "FYk-KxL7bJzM",
    "outputId": "dd202c6e-af79-496c-c370-761f6942e208"
   },
   "outputs": [
    {
     "name": "stdout",
     "output_type": "stream",
     "text": [
      "88\n"
     ]
    },
    {
     "name": "stderr",
     "output_type": "stream",
     "text": [
      "<ipython-input-1-ed4fb0bc986c>:21: FutureWarning: pandas.io.json.json_normalize is deprecated, use pandas.json_normalize instead.\n",
      "  df=json_normalize(data,\"data\")\n"
     ]
    },
    {
     "data": {
      "text/html": [
       "<div>\n",
       "<style scoped>\n",
       "    .dataframe tbody tr th:only-of-type {\n",
       "        vertical-align: middle;\n",
       "    }\n",
       "\n",
       "    .dataframe tbody tr th {\n",
       "        vertical-align: top;\n",
       "    }\n",
       "\n",
       "    .dataframe thead th {\n",
       "        text-align: right;\n",
       "    }\n",
       "</style>\n",
       "<table border=\"1\" class=\"dataframe\">\n",
       "  <thead>\n",
       "    <tr style=\"text-align: right;\">\n",
       "      <th></th>\n",
       "      <th>answer</th>\n",
       "      <th>answer_author</th>\n",
       "      <th>question</th>\n",
       "      <th>question_text</th>\n",
       "      <th>tags</th>\n",
       "      <th>url</th>\n",
       "    </tr>\n",
       "  </thead>\n",
       "  <tbody>\n",
       "    <tr>\n",
       "      <th>0</th>\n",
       "      <td>you can stay assured you are fine free of hiv....</td>\n",
       "      <td>Dr. Ayman Darrag</td>\n",
       "      <td>is my anti hiv test conclusive or need retest?</td>\n",
       "      <td>Is my Anti Hiv Test Conclusive or need retest?</td>\n",
       "      <td>[hiv test]</td>\n",
       "      <td>https://questiondoctors.com/is-my-anti-hiv-tes...</td>\n",
       "    </tr>\n",
       "    <tr>\n",
       "      <th>1</th>\n",
       "      <td>hi you are 100 % hiv free good luck</td>\n",
       "      <td>Dr Ahmed Fawzy</td>\n",
       "      <td>is my anti hiv test conclusive or need retest?</td>\n",
       "      <td>Is my Anti Hiv Test Conclusive or need retest?</td>\n",
       "      <td>[hiv test]</td>\n",
       "      <td>https://questiondoctors.com/is-my-anti-hiv-tes...</td>\n",
       "    </tr>\n",
       "    <tr>\n",
       "      <th>2</th>\n",
       "      <td>your time slots of the tests and the final res...</td>\n",
       "      <td>Dr.Honey</td>\n",
       "      <td>is my anti hiv test conclusive or need retest?</td>\n",
       "      <td>Is my Anti Hiv Test Conclusive or need retest?</td>\n",
       "      <td>[hiv test]</td>\n",
       "      <td>https://questiondoctors.com/is-my-anti-hiv-tes...</td>\n",
       "    </tr>\n",
       "    <tr>\n",
       "      <th>3</th>\n",
       "      <td>hi i see no labrum tear however i see acetabul...</td>\n",
       "      <td>Dr Ahmed Fawzy</td>\n",
       "      <td>i have some hip pain 9 weeks. had mra image re...</td>\n",
       "      <td>I have some hip pain 9 weeks. Had MRA image re...</td>\n",
       "      <td>[magnetic resonance angiography (mra)]</td>\n",
       "      <td>https://questiondoctors.com/i-have-some-hip-pa...</td>\n",
       "    </tr>\n",
       "    <tr>\n",
       "      <th>4</th>\n",
       "      <td>no visible tear in labrum but obviously calcif...</td>\n",
       "      <td>Dr. Ayman Darrag</td>\n",
       "      <td>i have some hip pain 9 weeks. had mra image re...</td>\n",
       "      <td>I have some hip pain 9 weeks. Had MRA image re...</td>\n",
       "      <td>[magnetic resonance angiography (mra)]</td>\n",
       "      <td>https://questiondoctors.com/i-have-some-hip-pa...</td>\n",
       "    </tr>\n",
       "  </tbody>\n",
       "</table>\n",
       "</div>"
      ],
      "text/plain": [
       "                                              answer     answer_author  \\\n",
       "0  you can stay assured you are fine free of hiv....  Dr. Ayman Darrag   \n",
       "1                hi you are 100 % hiv free good luck    Dr Ahmed Fawzy   \n",
       "2  your time slots of the tests and the final res...          Dr.Honey   \n",
       "3  hi i see no labrum tear however i see acetabul...    Dr Ahmed Fawzy   \n",
       "4  no visible tear in labrum but obviously calcif...  Dr. Ayman Darrag   \n",
       "\n",
       "                                            question  \\\n",
       "0     is my anti hiv test conclusive or need retest?   \n",
       "1     is my anti hiv test conclusive or need retest?   \n",
       "2     is my anti hiv test conclusive or need retest?   \n",
       "3  i have some hip pain 9 weeks. had mra image re...   \n",
       "4  i have some hip pain 9 weeks. had mra image re...   \n",
       "\n",
       "                                       question_text  \\\n",
       "0     Is my Anti Hiv Test Conclusive or need retest?   \n",
       "1     Is my Anti Hiv Test Conclusive or need retest?   \n",
       "2     Is my Anti Hiv Test Conclusive or need retest?   \n",
       "3  I have some hip pain 9 weeks. Had MRA image re...   \n",
       "4  I have some hip pain 9 weeks. Had MRA image re...   \n",
       "\n",
       "                                     tags  \\\n",
       "0                              [hiv test]   \n",
       "1                              [hiv test]   \n",
       "2                              [hiv test]   \n",
       "3  [magnetic resonance angiography (mra)]   \n",
       "4  [magnetic resonance angiography (mra)]   \n",
       "\n",
       "                                                 url  \n",
       "0  https://questiondoctors.com/is-my-anti-hiv-tes...  \n",
       "1  https://questiondoctors.com/is-my-anti-hiv-tes...  \n",
       "2  https://questiondoctors.com/is-my-anti-hiv-tes...  \n",
       "3  https://questiondoctors.com/i-have-some-hip-pa...  \n",
       "4  https://questiondoctors.com/i-have-some-hip-pa...  "
      ]
     },
     "execution_count": 1,
     "metadata": {},
     "output_type": "execute_result"
    }
   ],
   "source": [
    "import json \n",
    "import numpy as np \n",
    "import tensorflow as tf\n",
    "from tensorflow import keras\n",
    "from tensorflow.keras.models import Sequential\n",
    "from tensorflow.keras.layers import Dense, Embedding, GlobalAveragePooling1D\n",
    "from tensorflow.keras.preprocessing.text import Tokenizer\n",
    "from tensorflow.keras.preprocessing.sequence import pad_sequences\n",
    "from sklearn.preprocessing import LabelEncoder\n",
    "import colorama\n",
    "import pickle  \n",
    "import random\n",
    "import csv\n",
    "from pandas.io.json import json_normalize\n",
    "import webbrowser\n",
    "import requests\n",
    "\n",
    "\n",
    "with open(\"C:/Users/HP/Desktop/NLP/project/mydata.json\") as file:\n",
    "    data=json.load(file)\n",
    "    df=json_normalize(data,\"data\")\n",
    "df.to_csv(\"output.csv\",index=False,sep=\"\\t\",encoding=\"utf-8\")\n",
    "print(len(data['data']))\n",
    "df.head()\n",
    "\n"
   ]
  },
  {
   "cell_type": "code",
   "execution_count": 2,
   "metadata": {
    "colab": {
     "base_uri": "https://localhost:8080/"
    },
    "id": "SWU2x_OoiQhm",
    "outputId": "3bc365c3-0bea-45cd-ed96-c6eac1bd92d6"
   },
   "outputs": [],
   "source": [
    "training_sentences = []\n",
    "training_labels = []\n",
    "labels = []\n",
    "responses = []\n",
    "for intent in data['data']:\n",
    "    training_sentences.append(intent['question'])  \n",
    "    training_labels.append(intent['tags'][0])\n",
    "\n",
    "    responses.append(intent['answer'])\n",
    "    \n",
    "    if intent['tags'] not in labels:\n",
    "        labels.append(intent['tags'])\n"
   ]
  },
  {
   "cell_type": "code",
   "execution_count": 3,
   "metadata": {},
   "outputs": [
    {
     "name": "stdout",
     "output_type": "stream",
     "text": [
      "no of classes 25\n",
      "classes name [['hiv test'], ['magnetic resonance angiography (mra)'], ['hyperventilation'], ['low heart rate', 'secondary adrenal crisis', 'secondary adrenal insufficiency'], ['atypical mole (dysplastic nevi)'], ['bladder reconstructive surgery'], ['relapsing-remitting multiple sclerosis (rrms)'], ['myalgic encephalomyelitis'], ['inflammatory bowel disease unclassified (ibdu)'], ['immune system deficiency'], ['lordosis'], ['bone ttberculosis (tb) diagnosis'], ['sudden balding'], ['staph infection'], ['no babies heart rate'], ['sarcoidosis'], ['cervical intraepithelial neoplasia', 'cold coagulation for cin'], ['stroke'], ['irregular periods pregnancy'], ['spine deformation'], ['lower abdomen'], ['energy supplements'], ['finger is slowly healing'], ['if an appendix ruptures'], ['am i taking the wrong meds']]\n"
     ]
    }
   ],
   "source": [
    "        \n",
    "num_classes = len(labels)\n",
    "print(\"no of classes\",num_classes )\n",
    "print(\"classes name\",labels )\n",
    "lbl_encoder = LabelEncoder()\n",
    "# print(\"nnnnnn\",training_labels)\n",
    "lbl_encoder.fit(training_labels)\n",
    "training_labels = lbl_encoder.transform(training_labels)\n",
    "vocab_size = 1000\n",
    "embedding_dim = 16\n",
    "\n",
    "max_len = 20\n",
    "oov_token = \"<OOV>\"\n",
    "\n",
    "# tokenizer = Tokenizer(num_words=vocab_size, oov_token=oov_token)\n",
    "# tokenizer.fit_on_texts(training_sentences)\n",
    "# word_index = tokenizer.word_index\n",
    "# sequences = tokenizer.texts_to_sequences(training_sentences)\n",
    "# padded_sequences = pad_sequences(sequences, truncating='post', maxlen=max_len)\n",
    "# model = Sequential()\n",
    "# model.add(Embedding(vocab_size, embedding_dim, input_length=max_len))\n",
    "# model.add(GlobalAveragePooling1D())\n",
    "# model.add(Dense(16, activation='relu'))\n",
    "# model.add(Dense(16, activation='relu'))\n",
    "# model.add(Dense(num_classes, activation='softmax'))\n",
    "\n",
    "# model.compile(loss='sparse_categorical_crossentropy', \n",
    "#                 optimizer='adam', metrics=['accuracy'])\n",
    "# model.summary()\n",
    "# epochs = 50\n",
    "# history = model.fit(padded_sequences, np.array(training_labels), epochs=epochs)\n",
    "#   # to save the trained model\n",
    "# model.save(\"chat_model\")\n",
    "# with open('tokenizer.pickle', 'wb') as handle:\n",
    "#         pickle.dump(tokenizer, handle, protocol=pickle.HIGHEST_PROTOCOL)        \n",
    "#     # to save the fitted label encoder\n",
    "# with open('label_encoder.pickle', 'wb') as ecn_file:\n",
    "#         pickle.dump(lbl_encoder, ecn_file, protocol=pickle.HIGHEST_PROTOCOL)\n"
   ]
  },
  {
   "cell_type": "code",
   "execution_count": null,
   "metadata": {
    "colab": {
     "base_uri": "https://localhost:8080/"
    },
    "id": "HXj-ISxdWAC1",
    "outputId": "9678340a-4067-44f6-da83-6c964473e964",
    "scrolled": true
   },
   "outputs": [
    {
     "name": "stdout",
     "output_type": "stream",
     "text": [
      "Question: pain\n",
      "tag====> lordosis\n",
      "Answer===> hi i am physical therapist and your lumber lordosis can be fixed and restored main idea is to restore pelvic tilt to a posterior tilt position this can be achieved by stretching back muscles testis femoris and iliopsoas muscles strengthening abdominal and hamstrings also if your physical therapist can achieve normal ankle dorsi flexion 5 to 10 degree then his treatment can be permanent protection from recurrence good luck\n",
      "Type exit to stop\n",
      "Question: quit\n",
      "tag====> hiv test\n",
      "Answer===> you can stay assured you are fine free of hiv. your results are enough. avoid multiple partners in the future …\n",
      "Type exit to stop\n"
     ]
    }
   ],
   "source": [
    "def chat():\n",
    "        # load trained model\n",
    "        model = keras.models.load_model('chat_model')\n",
    "        # load tokenizer object\n",
    "        with open('tokenizer.pickle', 'rb') as handle:\n",
    "            tokenizer = pickle.load(handle)\n",
    "\n",
    "        # load label encoder object\n",
    "        with open('label_encoder.pickle', 'rb') as enc:\n",
    "            lbl_encoder = pickle.load(enc)\n",
    "        # parameters\n",
    "        max_len = 20        \n",
    "        while True:\n",
    "#             print( )\n",
    "            inp = input(\"Question: \")\n",
    "            if inp.lower()=='Weath ': \n",
    "              #weather()\n",
    "                print(\"weather\")\n",
    "            elif inp.lower() == \"exit\":\n",
    "                break\n",
    "            result = model.predict(keras.preprocessing.sequence.pad_sequences(tokenizer.texts_to_sequences([inp]),\n",
    "                                                truncating='post', maxlen=max_len))\n",
    "            tag = lbl_encoder.inverse_transform([np.argmax(result)])\n",
    "            for i in data['data']:                \n",
    "                if i['tags'][0] == tag[0]:\n",
    "                    print(\"tag====>\",i['tags'][0])\n",
    "                    print(\"Answer===>\",i['answer'])\n",
    "                    break\n",
    "                    # print(np.random.choice(i['answer']))\n",
    "            print( \"Type exit to stop\")\n",
    "chat()\n",
    "\n"
   ]
  },
  {
   "cell_type": "code",
   "execution_count": null,
   "metadata": {},
   "outputs": [],
   "source": []
  }
 ],
 "metadata": {
  "colab": {
   "collapsed_sections": [],
   "name": "simplechatbot.ipynb",
   "provenance": []
  },
  "kernelspec": {
   "display_name": "Python 3",
   "language": "python",
   "name": "python3"
  },
  "language_info": {
   "codemirror_mode": {
    "name": "ipython",
    "version": 3
   },
   "file_extension": ".py",
   "mimetype": "text/x-python",
   "name": "python",
   "nbconvert_exporter": "python",
   "pygments_lexer": "ipython3",
   "version": "3.8.8"
  }
 },
 "nbformat": 4,
 "nbformat_minor": 1
}
