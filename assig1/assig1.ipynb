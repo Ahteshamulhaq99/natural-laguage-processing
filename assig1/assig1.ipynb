{
 "cells": [
  {
   "cell_type": "code",
   "execution_count": 2,
   "id": "346b3601",
   "metadata": {},
   "outputs": [],
   "source": [
    "all_words=\"\"\"Doctor: Hello! What can I do for you?\n",
    "Patient: Good Morning Doctor. I don’t feel good.\n",
    "Doctor: Come and sit here.\n",
    "Doctor: Open your mouth.\n",
    "Doctor: Since how long are you not feeling well?\n",
    "Patient: Since yesterday.\n",
    "Doctor: No problem. Did you have motions yesterday?\n",
    "Patient: No Doctor. Not so freely.\n",
    "Patient: Doctor I feel weak and do not feel like eating.\n",
    "Doctor: Ok. And what else?\n",
    "Patient: I feel like vomiting.\n",
    "Doctor: Do you drink a lot of water?\n",
    "Patient: No Doctor, I don’t have water too much.\n",
    "Doctor: Did you took any medicine?\n",
    "Patient: Yes Doctor, I took a Crocin.\n",
    "Doctor: who asked you to take it?\n",
    "Patient: No one Doctor. I took it myself.\n",
    "Doctor: why did you take it?\n",
    "Patient: Because I felt a headache.\n",
    "Doctor: Nothing to be worried at.\n",
    "Doctor: Do you need quick relief?\n",
    "Patient: No Doctor. It is enough you give me medicines for now.\n",
    "\n",
    "Conversation Between Doctor and Patient About Fever\n",
    "\n",
    " \n",
    "Patient: Good Morning doctor.\n",
    "Doctor: Good morning! You seem pale and your voice sounds different.\n",
    "Patient: Yes doctor. I’m having a temperature and even a sore throat.\n",
    "Doctor: Let me check.\n",
    "Doctor: You have a moderate fever. Let me check your temperature.\n",
    "(Doctor uses a thermometer to check the temperature of a patient by snapping around one of the fingers)\n",
    "Patient: This thermometer is different from the last one you used.\n",
    "Doctor: Yes, this is introduced newly by medical supplies companies. It’s much more comfortable and doesn’t need cleaning after every use.\n",
    "Patient: That’s really great.\n",
    "Doctor: Yes it is.\n",
    "(Now he removed the thermometer)\n",
    "Doctor: Temperature is not too high, around 99.8. Let me check your blood pressure as well.\n",
    "(He then continues with measuring blood pressure.)\n",
    "Doctor: Your blood pressure is fine.\n",
    "(Now, he checks the throat.)\n",
    "Doctor: It seems a bit scruffy. Not good.\n",
    "Patient: Yes, it has been quite bad.\n",
    "Doctor: Do you sweat and shiver?\n",
    "Patient: Not sweating, but I feel slightly cold when I sit under a fan.\n",
    "Doctor: Ok. You have few signs of malaria. I would recommend you undergo a blood test. Nothing to worry about. In most cases, the test comes out to be negative. It’s just careful, as there has been a spurt in malaria cases in the last month or so.\n",
    "Doctor: I am writing three medicines and syrup. The number of dots in front of each medicine name tells you how many times in the day you have to take them. For example, the two dots here mean you’ve to take the medicine twice in the day, once in the morning and once after dinner.\n",
    "Doctor: Do you have any other questions?\n",
    "Patient: No, doctor. Thank you.\n",
    "Doctor: So, what makes you come here?\n",
    "Attendant: Doctor, my father has been diagnosed with unusual growth of cells in the colon, which other doctors so far have confirmed as a state of cancer.\n",
    "Doctor: What tests have you conducted?\n",
    "Attendant: On the recommendation of doctors in Delhi, we did blood tests, CT scan, and biopsy. We have taken three views on the reports and all have come up with opined colorectal cancer. Here are the reports.\n",
    "Doctor: Yes, this seems cancerous. We need to admit him today itself and get a few tests done. And let’s meet tomorrow morning when you have the reports of these tests.\n",
    "Attendant: OK. Thank you.\n",
    "(The doctor formulates his observations on his letterhead and gives it over to the Patient. The person then admits the patient and visits the doctor again the next morning with new reports in hand.)\n",
    "Doctor: The cancer is just one stage before it will expand to other parts. In this case, the best course of action is quick surgery to extract the affected part accompanied by radiation therapy.\n",
    "Attendant: How many days of treatment will be needed?\n",
    "Doctor: We can perform the operation in a couple of days. Consequently, we will keep the patient under observation for 4-5 days. Radiation therapy has become pretty regulated and therefore you can get it done in any tier-2 city, which will not only be useful to you but also decrease your cost.\n",
    "Attendant: And for how long the patient will have to go through radiation therapy?\n",
    "Doctor: The patient has to take one dose every two weeks for three months. You require to visit the hospital only on days you obtain therapy. Once radiation therapy is done, you should discuss an oncologist every three months in the beginning and every year later on to check for the remission of cancerous cells.\n",
    "Attendant: OK. I’ve heard radiation therapy has side effects.\n",
    "Doctor: Yes, radiation therapy has side effects. It can lead to hair loss, nausea, and loss of appetite.\n",
    "Attendant: Thank you, doctor. We will get him admitted today.\n",
    "\n",
    "Conversation About Stomach Pain With Doctor\n",
    "Doctor: Yes, tell me. What problems you have?\n",
    "Patient: I am suffering from stomachache and motions since last night. I have also vomited a few times last night.\n",
    "Doctor: What did you have yesterday?\n",
    "Patient: I had some snacks on the roadside stalls. It could be because of it.\n",
    "Doctor: It is possible that you had contaminated food. Because of diarrhea, you have lost plenty of body fluids. You require to be hydrated. Drink enough water regularly, at least 10-12 glasses. Mix some Glucon-D powder or Electoral in water and have it. Fruit juice is also fine. Avoid caffeine, dairy products, and solid foods at least till evening. And get plenty of rest.\n",
    "Patient: Any medicines, doctor.\n",
    "Doctor: Yes, I am prescribing a few to control diarrhea.\n",
    "Patient: Thank you, doctor.\n",
    "\"\"\"\n"
   ]
  },
  {
   "cell_type": "markdown",
   "id": "bbefcff8",
   "metadata": {},
   "source": [
    "# BIGRAM \n"
   ]
  },
  {
   "cell_type": "code",
   "execution_count": 3,
   "id": "2eb37539",
   "metadata": {},
   "outputs": [],
   "source": [
    "\n",
    "import nltk\n",
    "from nltk.corpus import reuters\n",
    "from nltk import bigrams, trigrams\n",
    "from collections import Counter, defaultdict\n",
    "\n",
    "# Create a placeholder for model\n",
    "model = defaultdict(lambda: defaultdict(lambda: 0))\n",
    "# sents(fileids=\"docName\")\n",
    "# Count frequency of co-occurance  \n",
    "for sentence in nltk.sent_tokenize(all_words.lower()):#nltk_tokens = nltk.sent_tokenize(sentence_data)\n",
    "    sentence = nltk.word_tokenize(sentence)\n",
    "#     print(sentence)\n",
    "    for w1, w2, w3 in trigrams(sentence, pad_right=True, pad_left=True):\n",
    "        model[(w1, w2)][w3] += 1\n",
    " \n",
    "# Let's transform the counts to probabilities\n",
    "for w1_w2 in model:\n",
    "    total_count = float(sum(model[w1_w2].values()))\n",
    "    for w3 in model[w1_w2]:\n",
    "        model[w1_w2][w3] /= total_count"
   ]
  },
  {
   "cell_type": "markdown",
   "id": "382e669f",
   "metadata": {},
   "source": [
    "# BIGRAM PROBABLITY "
   ]
  },
  {
   "cell_type": "code",
   "execution_count": 4,
   "id": "947871db",
   "metadata": {},
   "outputs": [
    {
     "data": {
      "text/plain": [
       "{'drink': 0.25, 'need': 0.25, 'sweat': 0.25, 'have': 0.25}"
      ]
     },
     "execution_count": 4,
     "metadata": {},
     "output_type": "execute_result"
    }
   ],
   "source": [
    "dict(model[(\"do\",\"you\")])"
   ]
  },
  {
   "cell_type": "markdown",
   "id": "8f77978b",
   "metadata": {},
   "source": [
    "# UNIGRAM"
   ]
  },
  {
   "cell_type": "code",
   "execution_count": 5,
   "id": "e67a51e9",
   "metadata": {},
   "outputs": [],
   "source": [
    "for sentence in nltk.sent_tokenize(all_words.lower()):#nltk_tokens = nltk.sent_tokenize(sentence_data)\n",
    "    sentence = nltk.word_tokenize(sentence)\n",
    "#     print(sentence)\n",
    "    for w1, w2 in bigrams(sentence, pad_right=True, pad_left=True):\n",
    "        model[(w1)][w2] += 1\n",
    " \n",
    "# Let's transform the counts to probabilities\n",
    "for w1 in model:\n",
    "    total_count = float(sum(model[w1].values()))\n",
    "    for w2 in model[w1]:\n",
    "        model[w1][w2] /= total_count"
   ]
  },
  {
   "cell_type": "markdown",
   "id": "2944f526",
   "metadata": {},
   "source": [
    "# UNIGRAM PROBABLITY\n"
   ]
  },
  {
   "cell_type": "code",
   "execution_count": 6,
   "id": "5f2f2197",
   "metadata": {},
   "outputs": [
    {
     "data": {
      "text/plain": [
       "{'your': 1.0}"
      ]
     },
     "execution_count": 6,
     "metadata": {},
     "output_type": "execute_result"
    }
   ],
   "source": [
    "dict(model[(\"open\")])"
   ]
  },
  {
   "cell_type": "code",
   "execution_count": null,
   "id": "2f772dd3",
   "metadata": {},
   "outputs": [],
   "source": []
  },
  {
   "cell_type": "code",
   "execution_count": null,
   "id": "e0c6cd89",
   "metadata": {},
   "outputs": [],
   "source": []
  }
 ],
 "metadata": {
  "kernelspec": {
   "display_name": "Python 3",
   "language": "python",
   "name": "python3"
  },
  "language_info": {
   "codemirror_mode": {
    "name": "ipython",
    "version": 3
   },
   "file_extension": ".py",
   "mimetype": "text/x-python",
   "name": "python",
   "nbconvert_exporter": "python",
   "pygments_lexer": "ipython3",
   "version": "3.8.8"
  }
 },
 "nbformat": 4,
 "nbformat_minor": 5
}
