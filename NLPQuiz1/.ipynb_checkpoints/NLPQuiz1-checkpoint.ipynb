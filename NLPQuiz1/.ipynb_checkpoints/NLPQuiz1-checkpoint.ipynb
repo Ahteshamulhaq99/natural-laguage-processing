{
 "cells": [
  {
   "cell_type": "code",
   "execution_count": null,
   "metadata": {
    "colab": {
     "base_uri": "https://localhost:8080/"
    },
    "id": "3p8-0yaIP3Es",
    "outputId": "dc717ca7-9127-48d2-b119-d44f30bec939"
   },
   "outputs": [
    {
     "name": "stdout",
     "output_type": "stream",
     "text": [
      "[nltk_data] Downloading package stopwords to /root/nltk_data...\n",
      "[nltk_data]   Package stopwords is already up-to-date!\n",
      "[nltk_data] Downloading package punkt to /root/nltk_data...\n",
      "[nltk_data]   Package punkt is already up-to-date!\n",
      "[nltk_data] Downloading package wordnet to /root/nltk_data...\n",
      "[nltk_data]   Package wordnet is already up-to-date!\n"
     ]
    }
   ],
   "source": [
    "import numpy as np \n",
    "import pandas as pd \n",
    "import os\n",
    "\n",
    "# Import stopwords with nltk.\n",
    "import nltk\n",
    "nltk.download(\"stopwords\")\n",
    "nltk.download('punkt')\n",
    "nltk.download('wordnet')\n",
    "from nltk.corpus import stopwords\n",
    "stop = stopwords.words('english')\n",
    "from collections import Counter\n",
    "\n",
    "# Fundamentals\n",
    "import matplotlib.pyplot as plt\n",
    "import seaborn as sns\n",
    "\n",
    "\n",
    "from nltk.tokenize import word_tokenize\n",
    "from nltk.corpus import stopwords\n",
    "from nltk.stem import WordNetLemmatizer\n",
    "\n",
    "\n",
    "# Multinomial Naive Bayes Classifier\n",
    "from sklearn.naive_bayes import MultinomialNB\n",
    "\n",
    "# Import Tf-idf Vectorizer\n",
    "from sklearn.feature_extraction.text import TfidfVectorizer\n",
    "\n",
    "\n",
    "# Import the train test split\n",
    "from sklearn.model_selection import train_test_split\n",
    "\n",
    "# To evaluate our model\n",
    "from sklearn.metrics import accuracy_score\n",
    "from sklearn.metrics import confusion_matrix\n",
    "from sklearn.metrics import classification_report\n",
    "from sklearn.metrics import roc_curve, auc\n",
    "from sklearn.metrics import roc_auc_score\n",
    "\n",
    "# I will keep the resulting plots\n",
    "%matplotlib inline\n",
    "\n",
    "# Enable Jupyter Notebook's intellisense\n",
    "%config IPCompleter.greedy=True\n"
   ]
  },
  {
   "cell_type": "code",
   "execution_count": null,
   "metadata": {
    "id": "z5h7LwgGQF-B"
   },
   "outputs": [],
   "source": [
    "data = pd.read_csv('raw_data.csv')"
   ]
  },
  {
   "cell_type": "code",
   "execution_count": null,
   "metadata": {
    "colab": {
     "base_uri": "https://localhost:8080/",
     "height": 206
    },
    "id": "sUzOG10iQX1x",
    "outputId": "484b60b2-1051-4ad8-cbb8-c5322475e6f0"
   },
   "outputs": [
    {
     "data": {
      "text/html": [
       "\n",
       "  <div id=\"df-0911758e-fa6a-4ba1-93ab-7b47df957d71\">\n",
       "    <div class=\"colab-df-container\">\n",
       "      <div>\n",
       "<style scoped>\n",
       "    .dataframe tbody tr th:only-of-type {\n",
       "        vertical-align: middle;\n",
       "    }\n",
       "\n",
       "    .dataframe tbody tr th {\n",
       "        vertical-align: top;\n",
       "    }\n",
       "\n",
       "    .dataframe thead th {\n",
       "        text-align: right;\n",
       "    }\n",
       "</style>\n",
       "<table border=\"1\" class=\"dataframe\">\n",
       "  <thead>\n",
       "    <tr style=\"text-align: right;\">\n",
       "      <th></th>\n",
       "      <th>class</th>\n",
       "      <th>tweet</th>\n",
       "    </tr>\n",
       "  </thead>\n",
       "  <tbody>\n",
       "    <tr>\n",
       "      <th>0</th>\n",
       "      <td>1</td>\n",
       "      <td>#Moscow, rallies in support of the Russian mi...</td>\n",
       "    </tr>\n",
       "    <tr>\n",
       "      <th>1</th>\n",
       "      <td>1</td>\n",
       "      <td>#UkraineRussianWar Russian forces have been co...</td>\n",
       "    </tr>\n",
       "    <tr>\n",
       "      <th>2</th>\n",
       "      <td>0</td>\n",
       "      <td>RT @dogefatherDEFI: #StandWithUkraine #dogefat...</td>\n",
       "    </tr>\n",
       "    <tr>\n",
       "      <th>3</th>\n",
       "      <td>0</td>\n",
       "      <td>#UkraineRussianWar Ukrainian forces have pulle...</td>\n",
       "    </tr>\n",
       "    <tr>\n",
       "      <th>4</th>\n",
       "      <td>0</td>\n",
       "      <td>@ROCORinCardiff The head of the Russian Orthod...</td>\n",
       "    </tr>\n",
       "  </tbody>\n",
       "</table>\n",
       "</div>\n",
       "      <button class=\"colab-df-convert\" onclick=\"convertToInteractive('df-0911758e-fa6a-4ba1-93ab-7b47df957d71')\"\n",
       "              title=\"Convert this dataframe to an interactive table.\"\n",
       "              style=\"display:none;\">\n",
       "        \n",
       "  <svg xmlns=\"http://www.w3.org/2000/svg\" height=\"24px\"viewBox=\"0 0 24 24\"\n",
       "       width=\"24px\">\n",
       "    <path d=\"M0 0h24v24H0V0z\" fill=\"none\"/>\n",
       "    <path d=\"M18.56 5.44l.94 2.06.94-2.06 2.06-.94-2.06-.94-.94-2.06-.94 2.06-2.06.94zm-11 1L8.5 8.5l.94-2.06 2.06-.94-2.06-.94L8.5 2.5l-.94 2.06-2.06.94zm10 10l.94 2.06.94-2.06 2.06-.94-2.06-.94-.94-2.06-.94 2.06-2.06.94z\"/><path d=\"M17.41 7.96l-1.37-1.37c-.4-.4-.92-.59-1.43-.59-.52 0-1.04.2-1.43.59L10.3 9.45l-7.72 7.72c-.78.78-.78 2.05 0 2.83L4 21.41c.39.39.9.59 1.41.59.51 0 1.02-.2 1.41-.59l7.78-7.78 2.81-2.81c.8-.78.8-2.07 0-2.86zM5.41 20L4 18.59l7.72-7.72 1.47 1.35L5.41 20z\"/>\n",
       "  </svg>\n",
       "      </button>\n",
       "      \n",
       "  <style>\n",
       "    .colab-df-container {\n",
       "      display:flex;\n",
       "      flex-wrap:wrap;\n",
       "      gap: 12px;\n",
       "    }\n",
       "\n",
       "    .colab-df-convert {\n",
       "      background-color: #E8F0FE;\n",
       "      border: none;\n",
       "      border-radius: 50%;\n",
       "      cursor: pointer;\n",
       "      display: none;\n",
       "      fill: #1967D2;\n",
       "      height: 32px;\n",
       "      padding: 0 0 0 0;\n",
       "      width: 32px;\n",
       "    }\n",
       "\n",
       "    .colab-df-convert:hover {\n",
       "      background-color: #E2EBFA;\n",
       "      box-shadow: 0px 1px 2px rgba(60, 64, 67, 0.3), 0px 1px 3px 1px rgba(60, 64, 67, 0.15);\n",
       "      fill: #174EA6;\n",
       "    }\n",
       "\n",
       "    [theme=dark] .colab-df-convert {\n",
       "      background-color: #3B4455;\n",
       "      fill: #D2E3FC;\n",
       "    }\n",
       "\n",
       "    [theme=dark] .colab-df-convert:hover {\n",
       "      background-color: #434B5C;\n",
       "      box-shadow: 0px 1px 3px 1px rgba(0, 0, 0, 0.15);\n",
       "      filter: drop-shadow(0px 1px 2px rgba(0, 0, 0, 0.3));\n",
       "      fill: #FFFFFF;\n",
       "    }\n",
       "  </style>\n",
       "\n",
       "      <script>\n",
       "        const buttonEl =\n",
       "          document.querySelector('#df-0911758e-fa6a-4ba1-93ab-7b47df957d71 button.colab-df-convert');\n",
       "        buttonEl.style.display =\n",
       "          google.colab.kernel.accessAllowed ? 'block' : 'none';\n",
       "\n",
       "        async function convertToInteractive(key) {\n",
       "          const element = document.querySelector('#df-0911758e-fa6a-4ba1-93ab-7b47df957d71');\n",
       "          const dataTable =\n",
       "            await google.colab.kernel.invokeFunction('convertToInteractive',\n",
       "                                                     [key], {});\n",
       "          if (!dataTable) return;\n",
       "\n",
       "          const docLinkHtml = 'Like what you see? Visit the ' +\n",
       "            '<a target=\"_blank\" href=https://colab.research.google.com/notebooks/data_table.ipynb>data table notebook</a>'\n",
       "            + ' to learn more about interactive tables.';\n",
       "          element.innerHTML = '';\n",
       "          dataTable['output_type'] = 'display_data';\n",
       "          await google.colab.output.renderOutput(dataTable, element);\n",
       "          const docLink = document.createElement('div');\n",
       "          docLink.innerHTML = docLinkHtml;\n",
       "          element.appendChild(docLink);\n",
       "        }\n",
       "      </script>\n",
       "    </div>\n",
       "  </div>\n",
       "  "
      ],
      "text/plain": [
       "   class                                              tweet\n",
       "0      1   #Moscow, rallies in support of the Russian mi...\n",
       "1      1  #UkraineRussianWar Russian forces have been co...\n",
       "2      0  RT @dogefatherDEFI: #StandWithUkraine #dogefat...\n",
       "3      0  #UkraineRussianWar Ukrainian forces have pulle...\n",
       "4      0  @ROCORinCardiff The head of the Russian Orthod..."
      ]
     },
     "execution_count": 129,
     "metadata": {},
     "output_type": "execute_result"
    }
   ],
   "source": [
    "data.head()"
   ]
  },
  {
   "cell_type": "code",
   "execution_count": null,
   "metadata": {
    "colab": {
     "base_uri": "https://localhost:8080/"
    },
    "id": "j-nkygkRSsQh",
    "outputId": "c8e0c924-150e-4307-e7a1-e2641f82e544"
   },
   "outputs": [
    {
     "name": "stdout",
     "output_type": "stream",
     "text": [
      "0      [#, moscow, ,, rallies, in, support, of, the, ...\n",
      "1      [#, ukrainerussianwar, russian, forces, have, ...\n",
      "2      [rt, @, dogefatherdefi, :, #, standwithukraine...\n",
      "3      [#, ukrainerussianwar, ukrainian, forces, have...\n",
      "4      [@, rocorincardiff, the, head, of, the, russia...\n",
      "                             ...                        \n",
      "195    [rt, @, dogefatherdefi, :, #, standwithukraine...\n",
      "196    [rt, @, okyouarerighttt, :, #, ukrainerussianw...\n",
      "197    [rt, @, arash_gallery, :, slava, ukraini, ., d...\n",
      "198    [president, zelensky, just, recorded, an, appe...\n",
      "199    [rt, @, cathygraphics3, :, @, projectlincoln, ...\n",
      "Name: tweet, Length: 200, dtype: object\n"
     ]
    }
   ],
   "source": [
    "tokenized_messages = data['tweet'].str.lower().apply(word_tokenize)\n",
    "\n",
    "# Print the tokens to see how it looks like\n",
    "print(tokenized_messages)"
   ]
  },
  {
   "cell_type": "code",
   "execution_count": null,
   "metadata": {
    "colab": {
     "base_uri": "https://localhost:8080/"
    },
    "id": "kadVBr3uToLl",
    "outputId": "c2c615a8-1a25-4977-e835-985452047d49"
   },
   "outputs": [
    {
     "name": "stdout",
     "output_type": "stream",
     "text": [
      "0      [moscow, rallies, in, support, of, the, russia...\n",
      "1      [ukrainerussianwar, russian, forces, have, bee...\n",
      "2      [rt, dogefatherdefi, standwithukraine, dogefat...\n",
      "3      [ukrainerussianwar, ukrainian, forces, have, p...\n",
      "4      [rocorincardiff, the, head, of, the, russian, ...\n",
      "                             ...                        \n",
      "195    [rt, dogefatherdefi, standwithukraine, dogefat...\n",
      "196    [rt, okyouarerighttt, ukrainerussianwar, putin...\n",
      "197    [rt, slava, ukraini, donating, all, proceeds, ...\n",
      "198    [president, zelensky, just, recorded, an, appe...\n",
      "199    [rt, projectlincoln, kyiv, this, is, putin, wa...\n",
      "Name: tweet, Length: 200, dtype: object\n"
     ]
    }
   ],
   "source": [
    "# Define a function to returns only alphanumeric tokens\n",
    "def alpha(tokens):\n",
    "    \"\"\"This function removes all non-alphanumeric characters\"\"\"\n",
    "    alpha = []\n",
    "    for token in tokens:\n",
    "        if str.isalpha(token) or token in ['n\\'t','won\\'t']:\n",
    "            if token=='n\\'t':\n",
    "                alpha.append('not')\n",
    "                continue\n",
    "            elif token == 'won\\'t':\n",
    "                alpha.append('wont')\n",
    "                continue\n",
    "            alpha.append(token)\n",
    "    return alpha\n",
    "# Apply our function to tokens\n",
    "tokenized_messages = tokenized_messages.apply(alpha)\n",
    "print(tokenized_messages)"
   ]
  },
  {
   "cell_type": "code",
   "execution_count": null,
   "metadata": {
    "colab": {
     "base_uri": "https://localhost:8080/"
    },
    "id": "GrwgIbkbT_3U",
    "outputId": "020abbd3-d443-40cd-b63d-06a58d2c5055"
   },
   "outputs": [
    {
     "name": "stdout",
     "output_type": "stream",
     "text": [
      "0      [moscow, rallies, support, russian, military, ...\n",
      "1      [ukrainerussianwar, russian, forces, confirmed...\n",
      "2      [rt, dogefatherdefi, standwithukraine, dogefat...\n",
      "3      [ukrainerussianwar, ukrainian, forces, pulled,...\n",
      "4      [rocorincardiff, head, russian, orthodox, chur...\n",
      "                             ...                        \n",
      "195    [rt, dogefatherdefi, standwithukraine, dogefat...\n",
      "196    [rt, okyouarerighttt, ukrainerussianwar, putin...\n",
      "197    [rt, slava, ukraini, donating, proceeds, chari...\n",
      "198    [president, zelensky, recorded, appeal, nato, ...\n",
      "199    [rt, projectlincoln, kyiv, putin, war, needs, ...\n",
      "Name: tweet, Length: 200, dtype: object\n"
     ]
    }
   ],
   "source": [
    "# Define a function to remove stop words\n",
    "def remove_stop_words(tokens):\n",
    "    \"\"\"This function removes all stop words in terms of nltk stopwords\"\"\"\n",
    "    no_stop = []\n",
    "    for token in tokens:\n",
    "        if token not in stopwords.words('english'):\n",
    "            no_stop.append(token)\n",
    "    return no_stop\n",
    "# Apply our function to tokens\n",
    "tokenized_messages = tokenized_messages.apply(remove_stop_words)\n",
    "print(tokenized_messages)"
   ]
  },
  {
   "cell_type": "code",
   "execution_count": null,
   "metadata": {
    "colab": {
     "base_uri": "https://localhost:8080/"
    },
    "id": "rr_sq169Wevg",
    "outputId": "fbca2291-d057-4084-ad69-3175cae888fb"
   },
   "outputs": [
    {
     "name": "stdout",
     "output_type": "stream",
     "text": [
      "0      moscow rally support russian military operatio...\n",
      "1      ukrainerussianwar russian force confirmed earl...\n",
      "2      rt dogefatherdefi standwithukraine dogefather ...\n",
      "3      ukrainerussianwar ukrainian force pulled back ...\n",
      "4      rocorincardiff head russian orthodox church pa...\n",
      "                             ...                        \n",
      "195    rt dogefatherdefi standwithukraine dogefather ...\n",
      "196    rt okyouarerighttt ukrainerussianwar putin bid...\n",
      "197    rt slava ukraini donating proceeds charity htt...\n",
      "198    president zelensky recorded appeal nato provid...\n",
      "199    rt projectlincoln kyiv putin war need stop ukr...\n",
      "Name: tweet, Length: 200, dtype: object\n"
     ]
    }
   ],
   "source": [
    "# Define a function to lemmatization\n",
    "def lemmatize(tokens):\n",
    "    \"\"\"This function lemmatize the messages\"\"\"\n",
    "    # Initialize the WordNetLemmatizer\n",
    "    lemmatizer = WordNetLemmatizer()\n",
    "    # Create the lemmatized list\n",
    "    lemmatized = []\n",
    "    for token in tokens:\n",
    "            # Lemmatize and append\n",
    "            lemmatized.append(lemmatizer.lemmatize(token))\n",
    "    return \" \".join(lemmatized)\n",
    "# Apply our function to tokens\n",
    "tokenized_messages = tokenized_messages.apply(lemmatize)\n",
    "print(tokenized_messages)"
   ]
  },
  {
   "cell_type": "code",
   "execution_count": null,
   "metadata": {
    "colab": {
     "base_uri": "https://localhost:8080/",
     "height": 206
    },
    "id": "gCamqEzrUJD4",
    "outputId": "f41935f3-34ef-43b3-d64b-c9a0b6cdee92"
   },
   "outputs": [
    {
     "data": {
      "text/html": [
       "\n",
       "  <div id=\"df-f55fddb2-ca0d-4bfa-bdb2-804b71672732\">\n",
       "    <div class=\"colab-df-container\">\n",
       "      <div>\n",
       "<style scoped>\n",
       "    .dataframe tbody tr th:only-of-type {\n",
       "        vertical-align: middle;\n",
       "    }\n",
       "\n",
       "    .dataframe tbody tr th {\n",
       "        vertical-align: top;\n",
       "    }\n",
       "\n",
       "    .dataframe thead th {\n",
       "        text-align: right;\n",
       "    }\n",
       "</style>\n",
       "<table border=\"1\" class=\"dataframe\">\n",
       "  <thead>\n",
       "    <tr style=\"text-align: right;\">\n",
       "      <th></th>\n",
       "      <th>class</th>\n",
       "      <th>tweet</th>\n",
       "    </tr>\n",
       "  </thead>\n",
       "  <tbody>\n",
       "    <tr>\n",
       "      <th>0</th>\n",
       "      <td>1</td>\n",
       "      <td>moscow rally support russian military operatio...</td>\n",
       "    </tr>\n",
       "    <tr>\n",
       "      <th>1</th>\n",
       "      <td>1</td>\n",
       "      <td>ukrainerussianwar russian force confirmed earl...</td>\n",
       "    </tr>\n",
       "    <tr>\n",
       "      <th>2</th>\n",
       "      <td>0</td>\n",
       "      <td>rt dogefatherdefi standwithukraine dogefather ...</td>\n",
       "    </tr>\n",
       "    <tr>\n",
       "      <th>3</th>\n",
       "      <td>0</td>\n",
       "      <td>ukrainerussianwar ukrainian force pulled back ...</td>\n",
       "    </tr>\n",
       "    <tr>\n",
       "      <th>4</th>\n",
       "      <td>0</td>\n",
       "      <td>rocorincardiff head russian orthodox church pa...</td>\n",
       "    </tr>\n",
       "  </tbody>\n",
       "</table>\n",
       "</div>\n",
       "      <button class=\"colab-df-convert\" onclick=\"convertToInteractive('df-f55fddb2-ca0d-4bfa-bdb2-804b71672732')\"\n",
       "              title=\"Convert this dataframe to an interactive table.\"\n",
       "              style=\"display:none;\">\n",
       "        \n",
       "  <svg xmlns=\"http://www.w3.org/2000/svg\" height=\"24px\"viewBox=\"0 0 24 24\"\n",
       "       width=\"24px\">\n",
       "    <path d=\"M0 0h24v24H0V0z\" fill=\"none\"/>\n",
       "    <path d=\"M18.56 5.44l.94 2.06.94-2.06 2.06-.94-2.06-.94-.94-2.06-.94 2.06-2.06.94zm-11 1L8.5 8.5l.94-2.06 2.06-.94-2.06-.94L8.5 2.5l-.94 2.06-2.06.94zm10 10l.94 2.06.94-2.06 2.06-.94-2.06-.94-.94-2.06-.94 2.06-2.06.94z\"/><path d=\"M17.41 7.96l-1.37-1.37c-.4-.4-.92-.59-1.43-.59-.52 0-1.04.2-1.43.59L10.3 9.45l-7.72 7.72c-.78.78-.78 2.05 0 2.83L4 21.41c.39.39.9.59 1.41.59.51 0 1.02-.2 1.41-.59l7.78-7.78 2.81-2.81c.8-.78.8-2.07 0-2.86zM5.41 20L4 18.59l7.72-7.72 1.47 1.35L5.41 20z\"/>\n",
       "  </svg>\n",
       "      </button>\n",
       "      \n",
       "  <style>\n",
       "    .colab-df-container {\n",
       "      display:flex;\n",
       "      flex-wrap:wrap;\n",
       "      gap: 12px;\n",
       "    }\n",
       "\n",
       "    .colab-df-convert {\n",
       "      background-color: #E8F0FE;\n",
       "      border: none;\n",
       "      border-radius: 50%;\n",
       "      cursor: pointer;\n",
       "      display: none;\n",
       "      fill: #1967D2;\n",
       "      height: 32px;\n",
       "      padding: 0 0 0 0;\n",
       "      width: 32px;\n",
       "    }\n",
       "\n",
       "    .colab-df-convert:hover {\n",
       "      background-color: #E2EBFA;\n",
       "      box-shadow: 0px 1px 2px rgba(60, 64, 67, 0.3), 0px 1px 3px 1px rgba(60, 64, 67, 0.15);\n",
       "      fill: #174EA6;\n",
       "    }\n",
       "\n",
       "    [theme=dark] .colab-df-convert {\n",
       "      background-color: #3B4455;\n",
       "      fill: #D2E3FC;\n",
       "    }\n",
       "\n",
       "    [theme=dark] .colab-df-convert:hover {\n",
       "      background-color: #434B5C;\n",
       "      box-shadow: 0px 1px 3px 1px rgba(0, 0, 0, 0.15);\n",
       "      filter: drop-shadow(0px 1px 2px rgba(0, 0, 0, 0.3));\n",
       "      fill: #FFFFFF;\n",
       "    }\n",
       "  </style>\n",
       "\n",
       "      <script>\n",
       "        const buttonEl =\n",
       "          document.querySelector('#df-f55fddb2-ca0d-4bfa-bdb2-804b71672732 button.colab-df-convert');\n",
       "        buttonEl.style.display =\n",
       "          google.colab.kernel.accessAllowed ? 'block' : 'none';\n",
       "\n",
       "        async function convertToInteractive(key) {\n",
       "          const element = document.querySelector('#df-f55fddb2-ca0d-4bfa-bdb2-804b71672732');\n",
       "          const dataTable =\n",
       "            await google.colab.kernel.invokeFunction('convertToInteractive',\n",
       "                                                     [key], {});\n",
       "          if (!dataTable) return;\n",
       "\n",
       "          const docLinkHtml = 'Like what you see? Visit the ' +\n",
       "            '<a target=\"_blank\" href=https://colab.research.google.com/notebooks/data_table.ipynb>data table notebook</a>'\n",
       "            + ' to learn more about interactive tables.';\n",
       "          element.innerHTML = '';\n",
       "          dataTable['output_type'] = 'display_data';\n",
       "          await google.colab.output.renderOutput(dataTable, element);\n",
       "          const docLink = document.createElement('div');\n",
       "          docLink.innerHTML = docLinkHtml;\n",
       "          element.appendChild(docLink);\n",
       "        }\n",
       "      </script>\n",
       "    </div>\n",
       "  </div>\n",
       "  "
      ],
      "text/plain": [
       "   class                                              tweet\n",
       "0      1  moscow rally support russian military operatio...\n",
       "1      1  ukrainerussianwar russian force confirmed earl...\n",
       "2      0  rt dogefatherdefi standwithukraine dogefather ...\n",
       "3      0  ukrainerussianwar ukrainian force pulled back ...\n",
       "4      0  rocorincardiff head russian orthodox church pa..."
      ]
     },
     "metadata": {},
     "output_type": "display_data"
    }
   ],
   "source": [
    "# Replace the columns with tokenized messages\n",
    "data['tweet'] = tokenized_messages\n",
    "# Display the first five rows\n",
    "display(data.head())"
   ]
  },
  {
   "cell_type": "code",
   "execution_count": null,
   "metadata": {
    "colab": {
     "base_uri": "https://localhost:8080/",
     "height": 362
    },
    "id": "q0lhh1lrXc7e",
    "outputId": "c3dfd6a9-fe3f-4424-a6ba-27a4a12e6741"
   },
   "outputs": [
    {
     "data": {
      "image/png": "[encoded data removed]",
      "text/plain": [
       "<Figure size 432x288 with 1 Axes>"
      ]
     },
     "metadata": {
      "needs_background": "light"
     },
     "output_type": "display_data"
    }
   ],
   "source": [
    "#most frequent words\n",
    "data_bar = data['tweet'].str.cat(sep=', ')\n",
    "data_bar=pd.DataFrame(Counter(data_bar.split()).most_common(), columns=[\"word\",'freq'])\n",
    "data_bar[1:20].plot.bar(x=\"word\", y=\"freq\")\n",
    "plt.show()"
   ]
  },
  {
   "cell_type": "code",
   "execution_count": null,
   "metadata": {
    "colab": {
     "base_uri": "https://localhost:8080/",
     "height": 346
    },
    "id": "FQkGvCaheV5y",
    "outputId": "e41f173b-22a2-4a2b-fc68-f748268b43b1"
   },
   "outputs": [
    {
     "data": {
      "image/png": "[encoded data removed]",
      "text/plain": [
       "<Figure size 432x288 with 1 Axes>"
      ]
     },
     "metadata": {
      "needs_background": "light"
     },
     "output_type": "display_data"
    }
   ],
   "source": [
    "#most non-frequent words\n",
    "data_bar = data['tweet'].str.cat(sep=', ')\n",
    "data_bar=pd.DataFrame(Counter(data_bar.split()).most_common(), columns=[\"word\",'freq'])\n",
    "data_bar[-20:].plot.bar(x=\"word\", y=\"freq\")\n",
    "plt.show()"
   ]
  },
  {
   "cell_type": "code",
   "execution_count": null,
   "metadata": {
    "id": "LQ5xuQM4UONW"
   },
   "outputs": [],
   "source": [
    "# Select the features and the target\n",
    "X = data['tweet']\n",
    "y = data['class']"
   ]
  },
  {
   "cell_type": "code",
   "execution_count": null,
   "metadata": {
    "id": "B2UgvveGUab-"
   },
   "outputs": [],
   "source": [
    "X_train, X_test, y_train, y_test = train_test_split(X, y, test_size=0.2, random_state=34, stratify=y)"
   ]
  },
  {
   "cell_type": "code",
   "execution_count": null,
   "metadata": {
    "id": "Bicma7yNUcrW"
   },
   "outputs": [],
   "source": [
    "# Create the tf-idf vectorizer\n",
    "vectorizer = TfidfVectorizer(strip_accents='ascii')\n",
    "# First fit the vectorizer with our training set\n",
    "tfidf_train = vectorizer.fit_transform(X_train)\n",
    "# Now we can fit our test data with the same vectorizer\n",
    "tfidf_test = vectorizer.transform(X_test)"
   ]
  },
  {
   "cell_type": "code",
   "execution_count": null,
   "metadata": {
    "colab": {
     "base_uri": "https://localhost:8080/"
    },
    "id": "7oKxyCSpUeMN",
    "outputId": "2e94c040-8a69-4b24-91fc-c52096bf0a0f"
   },
   "outputs": [
    {
     "name": "stdout",
     "output_type": "stream",
     "text": [
      "Accuracy: 0.525\n"
     ]
    }
   ],
   "source": [
    "# Initialize the Multinomial Naive Bayes classifier\n",
    "nb = MultinomialNB()\n",
    "# Fit the model\n",
    "nb.fit(tfidf_train, y_train)\n",
    "# Print the accuracy score\n",
    "print(\"Accuracy:\",nb.score(tfidf_test, y_test))"
   ]
  },
  {
   "cell_type": "code",
   "execution_count": null,
   "metadata": {
    "colab": {
     "base_uri": "https://localhost:8080/",
     "height": 625
    },
    "id": "0Ho8rjg5Uqkq",
    "outputId": "082a02e6-e682-4992-d5ca-79d1f36bd476"
   },
   "outputs": [
    {
     "name": "stdout",
     "output_type": "stream",
     "text": [
      "Confusion Matrix\n",
      "\n",
      "[[12 10]\n",
      " [ 9  9]]\n",
      "\n",
      "\n",
      "Classification Report\n",
      "\n",
      "              precision    recall  f1-score   support\n",
      "\n",
      "           0       0.57      0.55      0.56        22\n",
      "           1       0.47      0.50      0.49        18\n",
      "\n",
      "    accuracy                           0.53        40\n",
      "   macro avg       0.52      0.52      0.52        40\n",
      "weighted avg       0.53      0.53      0.53        40\n",
      "\n",
      "\n",
      "ROC AUC Score: 0.5227272727272727\n"
     ]
    },
    {
     "data": {
      "image/png": "[encoded data removed]",
      "text/plain": [
       "<Figure size 432x288 with 1 Axes>"
      ]
     },
     "metadata": {
      "needs_background": "light"
     },
     "output_type": "display_data"
    }
   ],
   "source": [
    "# Predict the labels\n",
    "y_pred = nb.predict(tfidf_test)\n",
    "# Print the Confusion Matrix\n",
    "cm = confusion_matrix(y_test, y_pred)\n",
    "print(\"Confusion Matrix\\n\")\n",
    "print(cm)\n",
    "# Print the Classification Report\n",
    "cr = classification_report(y_test, y_pred)\n",
    "print(\"\\n\\nClassification Report\\n\")\n",
    "print(cr)\n",
    "# Print the Receiver operating characteristic Auc score\n",
    "auc_score = roc_auc_score(y_test, y_pred)\n",
    "print(\"\\nROC AUC Score:\",auc_score)\n",
    "# Get probabilities.\n",
    "y_pred_proba = nb.predict(tfidf_test)\n",
    "# Get False Positive rate, True Positive rate and the threshold\n",
    "fpr, tpr, thresholds = roc_curve(y_test, y_pred_proba)\n",
    "# Visualize the ROC curve.\n",
    "plt.plot(fpr, tpr)\n",
    "plt.plot([0, 1], [0, 1],'r--')\n",
    "plt.xlim([0.0, 1.0])\n",
    "plt.ylim([0.0, 1.05])\n",
    "plt.xlabel('FP Rate')\n",
    "plt.ylabel('TP Rate')\n",
    "plt.title('ROC')\n",
    "plt.show()"
   ]
  }
 ],
 "metadata": {
  "colab": {
   "collapsed_sections": [],
   "name": "Untitled1.ipynb",
   "provenance": []
  },
  "kernelspec": {
   "display_name": "Python 3",
   "language": "python",
   "name": "python3"
  },
  "language_info": {
   "codemirror_mode": {
    "name": "ipython",
    "version": 3
   },
   "file_extension": ".py",
   "mimetype": "text/x-python",
   "name": "python",
   "nbconvert_exporter": "python",
   "pygments_lexer": "ipython3",
   "version": "3.8.8"
  }
 },
 "nbformat": 4,
 "nbformat_minor": 1
}
