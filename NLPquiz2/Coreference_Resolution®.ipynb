{
 "cells": [
  {
   "cell_type": "code",
   "execution_count": null,
   "metadata": {
    "id": "6wqOqqX7Ger7"
   },
   "outputs": [],
   "source": [
    "# Author - Kaveesha Baddage\n",
    "\n",
    "# Install spaCy and neuralcoref with correct versions \n",
    "\n",
    "!pip install -U spacy==2.1.0 \n",
    "\n",
    "!python -m spacy download en\n",
    "\n",
    "!pip uninstall -y neuralcoref \n",
    "\n",
    "!pip install neuralcoref --no-binary neuralcoref\n"
   ]
  },
  {
   "cell_type": "code",
   "execution_count": 2,
   "metadata": {
    "colab": {
     "base_uri": "https://localhost:8080/"
    },
    "id": "h_aiddCAJzh8",
    "outputId": "5790d559-ffde-4fa5-d54a-0f6cb611730b"
   },
   "outputs": [
    {
     "name": "stderr",
     "output_type": "stream",
     "text": [
      "100%|██████████| 40155833/40155833 [00:00<00:00, 49890465.41B/s]\n"
     ]
    },
    {
     "name": "stdout",
     "output_type": "stream",
     "text": [
      "[They: [They, them, they, They]]\n",
      "[my eyes: [my eyes, my eyes], they: [they, they, they]]\n",
      "[Our: [Our, we]]\n",
      "[Your reports: [Your reports, these reports]]\n",
      "[the doctor: [the doctor, The doctor]]\n",
      "[the next two hours: [the next two hours, he, he]]\n",
      "[He: [He, his], his card: [his card, it], her: [her, She]]\n",
      "[the doctor: [the doctor, He]]\n",
      "[The doctor: [The doctor, his], his letterhead: [his letterhead, it]]\n",
      "[She: [She, her]]\n",
      "[doctor: [doctor, him]]\n",
      "[radiation therapy: [radiation therapy, It]]\n",
      "[We: [We, we], Radiation therapy: [Radiation therapy, it]]\n",
      "[The cancer: [The cancer, it]]\n",
      "[The doctor: [The doctor, his, his, the doctor], his observations on his letterhead: [his observations on his letterhead, it], the attendant: [the attendant, The attendant]]\n",
      "[few tests: [few tests, these tests]]\n",
      "[we: [we, We, We’ve], the reports: [the reports, the reports]]\n",
      "[some snacks on the roadside eatery: [some snacks on the roadside eatery, It]]\n",
      "[last night: [last night, the night]]\n",
      "[how many times in the day you’ve: [how many times in the day you’ve, them], the day: [the day, the day]]\n",
      "[blood test: [blood test, the test]]\n",
      "[this: [this, It, it]]\n",
      "[the one you used the last time: [the one you used the last time, this one]]\n"
     ]
    }
   ],
   "source": [
    "# Import necessary libraries\n",
    "import spacy\n",
    "import neuralcoref\n",
    "\n",
    "# Load the model\n",
    "nlp = spacy.load('en_core_web_sm')  \n",
    "neuralcoref.add_to_pipe(nlp)\n",
    "text=\"\"\n",
    "# Sample text to use to do coreference resolution\n",
    "with open('/content/data.txt') as f:\n",
    "    f = f.readlines()\n",
    "for word in f:\n",
    "  text=word+text\n",
    "# print(\"mmmm\",text)\n",
    "sentences=text.split(\"\\n\")\n",
    "# print(sentences)\n",
    "# Retrieve the spaCy Doc (composed of Tokens)\n",
    "for sentence in sentences:\n",
    "  doc = nlp(sentence) \n",
    "  if len(doc._.coref_clusters) >0:\n",
    "    print(doc._.coref_clusters)\n",
    "\n",
    "\n"
   ]
  }
 ],
 "metadata": {
  "colab": {
   "collapsed_sections": [],
   "name": "Copy of Coreference Resolution®.ipynb",
   "provenance": []
  },
  "kernelspec": {
   "display_name": "Python 3",
   "language": "python",
   "name": "python3"
  },
  "language_info": {
   "codemirror_mode": {
    "name": "ipython",
    "version": 3
   },
   "file_extension": ".py",
   "mimetype": "text/x-python",
   "name": "python",
   "nbconvert_exporter": "python",
   "pygments_lexer": "ipython3",
   "version": "3.8.8"
  }
 },
 "nbformat": 4,
 "nbformat_minor": 1
}
