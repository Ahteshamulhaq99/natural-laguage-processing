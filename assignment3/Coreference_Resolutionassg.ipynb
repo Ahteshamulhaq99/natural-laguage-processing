{
 "cells": [
  {
   "cell_type": "markdown",
   "metadata": {},
   "source": [
    "# What is coreference resolution?\n",
    "Coreference Resolution:\n",
    "Coreference resolution (CR) is the task of finding all linguistic expressions (called mentions) in a given text that refer to the same real-world entity. After finding and grouping these mentions we can resolve them by replacing, as stated above, pronouns with noun phrases.\n",
    "Example:\n",
    "“I voted for Imran Khan because he was most aligned with my values”, Usama said.\n",
    "“Usama voted for Imran Khan because Imran Khan was most aligned with Usama’s values”, Usama said.\n",
    "Coreference resolution is an exceptionally versatile tool and can be applied to a variety of NLP tasks such as text understanding, information extraction, machine translation, sentiment analysis, or document summarization. It is a great way to obtain unambiguous sentences which can be much more easily understood by computers.\n",
    "\n",
    "How it works?\n",
    "Example:\n",
    "The first step in order to apply coreference resolution is to decide whether we would like to work with single words/tokens or spans. \n",
    "But what exactly is a span? It’s most often the case that what we want to swap or what we are swapping for is not a single word but multiple adjacent tokens. Therefore, span is a whole expression. Another name for it you may come across is a mention. They are often used interchangeably.\n",
    "Before Coreference Resolution: (English)\n",
    "“Ali Ahmed, Patient with Hepatitis, fallen from 6th floor, as the 68-year-old became the weak day by day. It is widely known that he is one of the richest people in the town.”\n",
    "Here we have spans like “he” that have only a single token in them, but we also see the span “Ali Ahmed, Patient with Hepatitis” consisting of six consecutive words.\n",
    "As a result, we obtained a text without any pronouns while still being valid grammatically and semantically. \n",
    "After Coreference Resolution:\n",
    "“Ali Ahmed, a Patient with Hepatitis, fell from the 6th floor, as Ali Ahmed, a Patient of Hepatitis became weak day by day. It is widely known that Ali Ahmed, a Patient with Hepatitis is one of the richest people in the town.”\n",
    "\n",
    "Before Coreference Resolution: (Urdu)\n",
    "\n",
    "ہیپاٹائٹس کا مریض علی احمد چھٹی منزل سے گر گیا، 68 سالہ بوڑھا دن بدن کمزور ہوتا جا رہا تھا۔ یہ بڑے پیمانے پر جانا جاتا ہے کہ وہ شہر کے امیر ترین لوگوں میں سے ایک ہے۔\n",
    "\n",
    "After Coreference Resolution:\n",
    "ہیپاٹائٹس کا مریض علی احمد چھٹی منزل سے گر گیا، علی احمد ہیپاٹائٹس کا مریض دن بدن کمزور ہوتا گیا۔ یہ بات مشہور ہے کہ ہیپاٹائٹس کا مریض علی احمد شہر کے امیر ترین لوگوں میں سے ایک ہے۔\n",
    "\n"
   ]
  },
  {
   "cell_type": "code",
   "execution_count": 3,
   "metadata": {
    "colab": {
     "base_uri": "https://localhost:8080/"
    },
    "id": "h_aiddCAJzh8",
    "outputId": "1d08065e-6e49-4a69-c7bd-bb0e5ddb1546"
   },
   "outputs": [
    {
     "name": "stdout",
     "output_type": "stream",
     "text": [
      "[They: [They, them, they, They]]\n",
      "[my eyes: [my eyes, my eyes], they: [they, they, they]]\n",
      "[Our: [Our, we]]\n",
      "[Your reports: [Your reports, these reports]]\n",
      "[the doctor: [the doctor, The doctor]]\n",
      "[the next two hours: [the next two hours, he, he]]\n",
      "[He: [He, his], his card: [his card, it], her: [her, She]]\n",
      "[the doctor: [the doctor, He]]\n",
      "[The doctor: [The doctor, his], his letterhead: [his letterhead, it]]\n",
      "[She: [She, her]]\n",
      "[doctor: [doctor, him]]\n",
      "[radiation therapy: [radiation therapy, It]]\n",
      "[We: [We, we], Radiation therapy: [Radiation therapy, it]]\n",
      "[The cancer: [The cancer, it]]\n",
      "[The doctor: [The doctor, his, his, the doctor], his observations on his letterhead: [his observations on his letterhead, it], the attendant: [the attendant, The attendant]]\n",
      "[few tests: [few tests, these tests]]\n",
      "[we: [we, We, We’ve], the reports: [the reports, the reports]]\n",
      "[some snacks on the roadside eatery: [some snacks on the roadside eatery, It]]\n",
      "[last night: [last night, the night]]\n",
      "[how many times in the day you’ve: [how many times in the day you’ve, them], the day: [the day, the day]]\n",
      "[blood test: [blood test, the test]]\n",
      "[this: [this, It, it]]\n",
      "[the one you used the last time: [the one you used the last time, this one]]\n"
     ]
    }
   ],
   "source": [
    "# Import necessary libraries\n",
    "import spacy\n",
    "import neuralcoref\n",
    "# import el_core_news_md\n",
    "# nlp = el_core_news_md.load()\n",
    "# Load the model\n",
    "nlp = spacy.load('en_core_web_sm')  \n",
    "neuralcoref.add_to_pipe(nlp)\n",
    "text=\"\"\n",
    "# Sample text to use to do coreference resolution\n",
    "with open('/content/data.txt') as f:\n",
    "    f = f.readlines()\n",
    "for word in f:\n",
    "  text=word+text\n",
    "# print(\"mmmm\",text)\n",
    "sentences=text.split(\"\\n\")\n",
    "for sentence in sentences:\n",
    "  doc = nlp(sentence) \n",
    "  if len(doc._.coref_clusters) >0:\n",
    "      print(doc._.coref_clusters)\n",
    "\n",
    "\n"
   ]
  }
 ],
 "metadata": {
  "accelerator": "GPU",
  "colab": {
   "collapsed_sections": [],
   "name": "Copy of Coreference Resolution®.ipynb",
   "provenance": []
  },
  "gpuClass": "standard",
  "kernelspec": {
   "display_name": "Python 3",
   "language": "python",
   "name": "python3"
  },
  "language_info": {
   "codemirror_mode": {
    "name": "ipython",
    "version": 3
   },
   "file_extension": ".py",
   "mimetype": "text/x-python",
   "name": "python",
   "nbconvert_exporter": "python",
   "pygments_lexer": "ipython3",
   "version": "3.8.8"
  }
 },
 "nbformat": 4,
 "nbformat_minor": 1
}
